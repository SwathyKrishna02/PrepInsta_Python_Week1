{
  "nbformat": 4,
  "nbformat_minor": 0,
  "metadata": {
    "colab": {
      "provenance": []
    },
    "kernelspec": {
      "name": "python3",
      "display_name": "Python 3"
    },
    "language_info": {
      "name": "python"
    }
  },
  "cells": [
    {
      "cell_type": "markdown",
      "source": [
        "# Write a program to print the given number is odd or even."
      ],
      "metadata": {
        "id": "6UyFRHXn-8ji"
      }
    },
    {
      "cell_type": "code",
      "execution_count": 2,
      "metadata": {
        "id": "RvcfzMCt-3tT",
        "colab": {
          "base_uri": "https://localhost:8080/"
        },
        "outputId": "e688a736-cce1-4109-f850-41744321e91e"
      },
      "outputs": [
        {
          "output_type": "stream",
          "name": "stdout",
          "text": [
            "Enter a number: 6\n",
            "6 is even.\n"
          ]
        }
      ],
      "source": [
        "number = int(input(\"Enter a number: \"))\n",
        "\n",
        "if number % 2 == 0:\n",
        "    print(number, \"is even.\")\n",
        "else:\n",
        "    print(number, \"is odd.\")"
      ]
    },
    {
      "cell_type": "markdown",
      "source": [
        "# Write a program to find the given number is positive or negative."
      ],
      "metadata": {
        "id": "Q4wGE_xD_Ekq"
      }
    },
    {
      "cell_type": "code",
      "source": [
        "number = int(input(\"Enter a number: \"))\n",
        "\n",
        "if number > 0:\n",
        "    print(number, \"is positive.\")\n",
        "elif number < 0:\n",
        "    print(number, \"is negative.\")\n",
        "else:\n",
        "    print(\"The number is zero.\")"
      ],
      "metadata": {
        "id": "SJg7445U_Gvk",
        "colab": {
          "base_uri": "https://localhost:8080/"
        },
        "outputId": "f7ca96e2-acc2-4b8b-e07e-e17e1a1d5c47"
      },
      "execution_count": 5,
      "outputs": [
        {
          "output_type": "stream",
          "name": "stdout",
          "text": [
            "Enter a number: 0\n",
            "The number is zero.\n"
          ]
        }
      ]
    },
    {
      "cell_type": "markdown",
      "source": [
        "# Write a program to find the sum of two numbers."
      ],
      "metadata": {
        "id": "y6s1T1Hd_HQy"
      }
    },
    {
      "cell_type": "code",
      "source": [
        "num1 = int(input(\"Enter the first number: \"))\n",
        "\n",
        "num2 = int(input(\"Enter the second number: \"))\n",
        "\n",
        "sum = num1 + num2\n",
        "\n",
        "print(\"The sum of\", num1, \"and\", num2, \"is\", sum)"
      ],
      "metadata": {
        "id": "4-9LjD5v_M-_",
        "colab": {
          "base_uri": "https://localhost:8080/"
        },
        "outputId": "df3ae28f-9f48-45ef-9dca-aa3b0e26f786"
      },
      "execution_count": 6,
      "outputs": [
        {
          "output_type": "stream",
          "name": "stdout",
          "text": [
            "Enter the first number: 5\n",
            "Enter the second number: 5\n",
            "The sum of 5 and 5 is 10\n"
          ]
        }
      ]
    },
    {
      "cell_type": "markdown",
      "source": [
        "# Write a program to find a maximum of two numbers."
      ],
      "metadata": {
        "id": "vP6ffuOV_Ooa"
      }
    },
    {
      "cell_type": "code",
      "source": [
        "num1 = int(input(\"Enter the first number: \"))\n",
        "\n",
        "num2 = int(input(\"Enter the second number: \"))\n",
        "\n",
        "maximum = max(num1, num2)\n",
        "\n",
        "print(\"The maximum of\", num1, \"and\", num2, \"is\", maximum)"
      ],
      "metadata": {
        "id": "YXbGvRe4_RME",
        "colab": {
          "base_uri": "https://localhost:8080/"
        },
        "outputId": "f5297542-c7c9-45ba-974c-2438f998e09e"
      },
      "execution_count": 7,
      "outputs": [
        {
          "output_type": "stream",
          "name": "stdout",
          "text": [
            "Enter the first number: 5\n",
            "Enter the second number: 8\n",
            "The maximum of 5 and 8 is 8\n"
          ]
        }
      ]
    },
    {
      "cell_type": "markdown",
      "source": [
        "# Write a program to find a minimum of two numbers.Write a program to find a maximum of three numbers."
      ],
      "metadata": {
        "id": "SdWmg4cF_Rx2"
      }
    },
    {
      "cell_type": "code",
      "source": [
        "num1 = int(input(\"Enter the first number: \"))\n",
        "\n",
        "num2 = int(input(\"Enter the second number: \"))\n",
        "\n",
        "minimum = min(num1, num2)\n",
        "\n",
        "print(\"The minimum of\", num1, \"and\", num2, \"is\", minimum)\n",
        "\n",
        "\n",
        "num1 = int(input(\"Enter the first number: \"))\n",
        "\n",
        "num2 = int(input(\"Enter the second number: \"))\n",
        "\n",
        "num3 = int(input(\"Enter the third number: \"))\n",
        "\n",
        "maximum = max(num1, num2, num3)\n",
        "\n",
        "print(\"The maximum of\", num1, \",\", num2, \"and\", num3, \"is\", maximum)"
      ],
      "metadata": {
        "id": "WFjiKeOB_UHg",
        "colab": {
          "base_uri": "https://localhost:8080/"
        },
        "outputId": "3ed5716d-51b2-4805-826a-acea573d01a2"
      },
      "execution_count": 10,
      "outputs": [
        {
          "output_type": "stream",
          "name": "stdout",
          "text": [
            "Enter the first number: 5\n",
            "Enter the second number: 2\n",
            "The minimum of 5 and 2 is 2\n",
            "Enter the first number: 8\n",
            "Enter the second number: 9\n",
            "Enter the third number: 7\n",
            "The maximum of 8 , 9 and 7 is 9\n"
          ]
        }
      ]
    },
    {
      "cell_type": "markdown",
      "source": [
        "# Write a program to find if the given number is prime or not."
      ],
      "metadata": {
        "id": "Mdp0u8zS_XJP"
      }
    },
    {
      "cell_type": "code",
      "source": [
        "n=int(input(\"Enter the number: \"))\n",
        "if n==1:\n",
        "    print(\"Neither prime nor not prime\")\n",
        "if n>1:\n",
        "    for i in range(2,n):\n",
        "        if n%i==0:\n",
        "            print(\"not prime\")\n",
        "            break\n",
        "    else:\n",
        "        print(\"prime\")\n"
      ],
      "metadata": {
        "id": "IqEP17Gc_eo1",
        "colab": {
          "base_uri": "https://localhost:8080/"
        },
        "outputId": "cb496163-8759-4579-ee8c-b87e9426e9af"
      },
      "execution_count": 13,
      "outputs": [
        {
          "output_type": "stream",
          "name": "stdout",
          "text": [
            "Enter the number: 2\n",
            "prime\n"
          ]
        }
      ]
    },
    {
      "cell_type": "markdown",
      "source": [
        "# Write a program to check if the given number is Armstrong or not."
      ],
      "metadata": {
        "id": "cAN8cAsO_fVo"
      }
    },
    {
      "cell_type": "code",
      "source": [
        "number = int(input(\"Enter a number: \"))\n",
        "\n",
        "num_digits = len(str(number))\n",
        "\n",
        "armstrong_sum = 0\n",
        "\n",
        "temp_number = number\n",
        "while temp_number > 0:\n",
        "    digit = temp_number % 10\n",
        "    armstrong_sum += digit ** num_digits\n",
        "    temp_number //= 10\n",
        "\n",
        "if armstrong_sum == number:\n",
        "    print(number, \"is an Armstrong number.\")\n",
        "else:\n",
        "    print(number, \"is not an Armstrong number.\")\n"
      ],
      "metadata": {
        "id": "8BvjIWMU_hTw",
        "colab": {
          "base_uri": "https://localhost:8080/"
        },
        "outputId": "cadb2f9b-559e-4a6e-a78d-a5774743e146"
      },
      "execution_count": 14,
      "outputs": [
        {
          "output_type": "stream",
          "name": "stdout",
          "text": [
            "Enter a number: 4\n",
            "4 is an Armstrong number.\n"
          ]
        }
      ]
    },
    {
      "cell_type": "markdown",
      "source": [
        "# Write a program to find a fibonacci of a number."
      ],
      "metadata": {
        "id": "92s3vt_J_o8b"
      }
    },
    {
      "cell_type": "code",
      "source": [
        "number = int(input(\"Enter a number: \"))\n",
        "\n",
        "a, b = 0, 1\n",
        "\n",
        "for i in range(number):\n",
        "    a, b = b, a + b\n",
        "\n",
        "# Print the Fibonacci number\n",
        "print(\"Fibonacci of\", number, \"is\", a)"
      ],
      "metadata": {
        "id": "EMbXbUOB_kyu",
        "colab": {
          "base_uri": "https://localhost:8080/"
        },
        "outputId": "7c7e8c60-49af-4b40-ea4f-010736fc416c"
      },
      "execution_count": 16,
      "outputs": [
        {
          "output_type": "stream",
          "name": "stdout",
          "text": [
            "Enter a number: 5\n",
            "Fibonacci of 5 is 5\n"
          ]
        }
      ]
    },
    {
      "cell_type": "markdown",
      "source": [
        "# Write a program to check if the given number is palindrome or not."
      ],
      "metadata": {
        "id": "j1DjL9-M_iBh"
      }
    },
    {
      "cell_type": "code",
      "source": [
        "a=input(\"Enter: \")\n",
        "if a==a[::-1]:\n",
        "    print(\"Palindrome\")\n",
        "else:\n",
        "    print(\"Not a Palindrome\")"
      ],
      "metadata": {
        "id": "Fhob3k9Y_xeC",
        "colab": {
          "base_uri": "https://localhost:8080/"
        },
        "outputId": "6484a04c-26e9-4d48-fba2-7120d7a61cc8"
      },
      "execution_count": 17,
      "outputs": [
        {
          "output_type": "stream",
          "name": "stdout",
          "text": [
            "Enter: 454\n",
            "Palindrome\n"
          ]
        }
      ]
    },
    {
      "cell_type": "markdown",
      "source": [
        "# Write a program to print the following patterns."
      ],
      "metadata": {
        "id": "2YqGI3ph_0Ky"
      }
    },
    {
      "cell_type": "markdown",
      "source": [
        "![Screenshot 2024-03-10 at 4.24.34 PM.png](data:image/png;base64,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)"
      ],
      "metadata": {
        "id": "IKkaBwYoBZdu"
      }
    },
    {
      "cell_type": "code",
      "source": [
        "rows = 5\n",
        "\n",
        "for i in range(1, rows + 1):\n",
        "    for j in range(1, i + 1):\n",
        "        print('*', end=' ')\n",
        "\n",
        "    print()"
      ],
      "metadata": {
        "id": "70pFrzpiAgPD",
        "colab": {
          "base_uri": "https://localhost:8080/"
        },
        "outputId": "457ca6b7-4b3c-430b-dd84-8271a98a45b7"
      },
      "execution_count": 19,
      "outputs": [
        {
          "output_type": "stream",
          "name": "stdout",
          "text": [
            "* \n",
            "* * \n",
            "* * * \n",
            "* * * * \n",
            "* * * * * \n"
          ]
        }
      ]
    },
    {
      "cell_type": "code",
      "source": [
        "for i in range(5):\n",
        "    for j in range(5, i, -1):\n",
        "        print(\" \", end=\"\")\n",
        "    for k in range(i + 1):\n",
        "        print(\"* \", end=\"\")\n",
        "    print()"
      ],
      "metadata": {
        "id": "nHt0ggpOBh_2",
        "colab": {
          "base_uri": "https://localhost:8080/"
        },
        "outputId": "1d20a308-28a6-4534-c374-fe35dafa6f23"
      },
      "execution_count": 24,
      "outputs": [
        {
          "output_type": "stream",
          "name": "stdout",
          "text": [
            "     * \n",
            "    * * \n",
            "   * * * \n",
            "  * * * * \n",
            " * * * * * \n"
          ]
        }
      ]
    },
    {
      "cell_type": "code",
      "source": [
        "rows = 5\n",
        "num = 1\n",
        "\n",
        "for i in range(1, rows + 1):\n",
        "    for j in range(i):\n",
        "        print(num, end=\" \")\n",
        "        num += 1\n",
        "\n",
        "    print()"
      ],
      "metadata": {
        "id": "23Oun6ZgBhx9",
        "colab": {
          "base_uri": "https://localhost:8080/"
        },
        "outputId": "6d4ca758-e120-4df7-cebd-70c3889877e5"
      },
      "execution_count": 25,
      "outputs": [
        {
          "output_type": "stream",
          "name": "stdout",
          "text": [
            "1 \n",
            "2 3 \n",
            "4 5 6 \n",
            "7 8 9 10 \n",
            "11 12 13 14 15 \n"
          ]
        }
      ]
    },
    {
      "cell_type": "code",
      "source": [
        "rows = 5\n",
        "\n",
        "for i in range(rows):\n",
        "    print(chr(ord('A') + i) * (i + 1))"
      ],
      "metadata": {
        "id": "1wV0WedbBhm_",
        "colab": {
          "base_uri": "https://localhost:8080/"
        },
        "outputId": "e9dc6b90-ea3a-43d8-c0cf-269ff923f3f1"
      },
      "execution_count": 29,
      "outputs": [
        {
          "output_type": "stream",
          "name": "stdout",
          "text": [
            "A\n",
            "BB\n",
            "CCC\n",
            "DDDD\n",
            "EEEEE\n"
          ]
        }
      ]
    },
    {
      "cell_type": "code",
      "source": [],
      "metadata": {
        "id": "n0dxWwhPnGEo"
      },
      "execution_count": null,
      "outputs": []
    }
  ]
}