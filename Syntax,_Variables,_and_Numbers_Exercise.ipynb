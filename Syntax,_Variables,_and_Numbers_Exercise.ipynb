{
  "nbformat": 4,
  "nbformat_minor": 0,
  "metadata": {
    "colab": {
      "provenance": [],
      "collapsed_sections": [
        "CG7cQUbCuJDo",
        "ke8twEaHwlG2",
        "vJF67YpBxNU7",
        "CXY2crn4yakY"
      ]
    },
    "kernelspec": {
      "name": "python3",
      "display_name": "Python 3"
    },
    "language_info": {
      "name": "python"
    }
  },
  "cells": [
    {
      "cell_type": "markdown",
      "source": [
        "# Introduction.\n",
        "\n",
        "Welcome to your first set of Python coding problems. If this is your first time using Google Colab, welcome!\n",
        "\n",
        "Notebooks are composed of blocks (called \"cells\") of text and code. Each of these is editable, though you'll mainly be editing the code cells to answer some questions.\n",
        "\n",
        "To get started, try running the code cell below (by pressing the ► button, or clicking on the cell and pressing ctrl+enter on your keyboard)."
      ],
      "metadata": {
        "id": "CG7cQUbCuJDo"
      }
    },
    {
      "cell_type": "code",
      "source": [
        "print(\"You've successfully run some Python code\")\n",
        "print(\"Congratulations!\")"
      ],
      "metadata": {
        "id": "hLhLO7HhuL8S"
      },
      "execution_count": null,
      "outputs": []
    },
    {
      "cell_type": "markdown",
      "source": [
        "Try adding another line of code in the cell above and re-running it.\n",
        "\n",
        "Great! Now you know how to use Notebooks.\n",
        "\n",
        "Each hands-on exercise starts by setting up our feedback and code checking mechanism. Run the code cell below to do that. Then you'll be ready to move on to question 0."
      ],
      "metadata": {
        "id": "NVOexq9muQgQ"
      }
    },
    {
      "cell_type": "markdown",
      "source": [
        "# 0.\n",
        "**What is your favorite color?**\n",
        "\n",
        "To complete this question, create a variable called color in the cell below with an appropriate value."
      ],
      "metadata": {
        "id": "ke8twEaHwlG2"
      }
    },
    {
      "cell_type": "code",
      "source": [
        "# create a variable called color with an appropriate value on the line below\n",
        "# (Remember, strings in Python must be enclosed in 'single' or \"double\" quotes)\n",
        "# Print the output"
      ],
      "metadata": {
        "id": "kkVtIEA6uwTZ"
      },
      "execution_count": null,
      "outputs": []
    },
    {
      "cell_type": "markdown",
      "source": [
        "<hr/>\n",
        "\n",
        "# 1.\n",
        "\n",
        "Complete the code below. In case it's helpful, here is the table of available arithmetic operations:\n",
        "\n",
        "\n",
        "\n",
        "| Operator     | Name           | Description                                            |\n",
        "|--------------|----------------|--------------------------------------------------------|\n",
        "| ``a + b``    | Addition       | Sum of ``a`` and ``b``                                 |\n",
        "| ``a - b``    | Subtraction    | Difference of ``a`` and ``b``                          |\n",
        "| ``a * b``    | Multiplication | Product of ``a`` and ``b``                             |\n",
        "| ``a / b``    | True division  | Quotient of ``a`` and ``b``                            |\n",
        "| ``a // b``   | Floor division | Quotient of ``a`` and ``b``, removing fractional parts |\n",
        "| ``a % b``    | Modulus        | Integer remainder after division of ``a`` by ``b``     |\n",
        "| ``a ** b``   | Exponentiation | ``a`` raised to the power of ``b``                     |\n",
        "| ``-a``       | Negation       | The negative of ``a``                                  |\n",
        "\n",
        "<span style=\"display:none\"></span>"
      ],
      "metadata": {
        "id": "vJF67YpBxNU7"
      }
    },
    {
      "cell_type": "code",
      "source": [
        "pi = 3.14159 # approximate\n",
        "diameter = 3\n",
        "\n",
        "# Create a variable called 'radius' equal to half the diameter\n",
        "radius =\n",
        "\n",
        "# Create a variable called 'area', using the formula for the area of a circle: pi times the radius squared\n",
        "area =\n",
        "\n",
        "# Check your answer\n",
        "print(area)"
      ],
      "metadata": {
        "id": "Ca62KzGJxM9I"
      },
      "execution_count": null,
      "outputs": []
    },
    {
      "cell_type": "markdown",
      "source": [
        "<hr/>\n",
        "\n",
        "# 2.\n",
        "\n",
        "Add code to the following cell to swap variables `a` and `b` (so that `a` refers to the object previously referred to by `b` and vice versa)."
      ],
      "metadata": {
        "id": "CXY2crn4yakY"
      }
    },
    {
      "cell_type": "code",
      "source": [
        "########### Setup code - don't touch this part ######################\n",
        "# If you're curious, these are examples of lists. We'll talk about\n",
        "# them in depth a few lessons from now. For now, just know that they're\n",
        "# yet another type of Python object, like int or float.\n",
        "a = [1, 2, 3]\n",
        "b = [3, 2, 1]\n",
        "######################################################################\n",
        "\n",
        "# Your code goes here. Swap the values to which a and b refer.\n",
        "\n",
        "######################################################################"
      ],
      "metadata": {
        "id": "Rk4iNFJXzEtl"
      },
      "execution_count": null,
      "outputs": []
    },
    {
      "cell_type": "markdown",
      "source": [
        "# 3.\n",
        "\n",
        "\n",
        "Add parentheses to the following expression so that it evaluates to 0."
      ],
      "metadata": {
        "id": "yM8mpSAtzyKp"
      }
    },
    {
      "cell_type": "code",
      "source": [
        "8 - 3 * 2 - 1 + 1"
      ],
      "metadata": {
        "id": "Y27Qs3bC0uY6"
      },
      "execution_count": null,
      "outputs": []
    },
    {
      "cell_type": "markdown",
      "source": [
        "<hr/>\n",
        "\n",
        "# 4.\n",
        "\n",
        "Amit, Priya, and Rahul have agreed to pool their Diwali sweets and split them evenly among themselves. For the sake of their friendship, any sweets left over will be given thier pet dog."
      ],
      "metadata": {
        "id": "fV1DhMww00z9"
      }
    },
    {
      "cell_type": "code",
      "source": [
        "# Variables representing the number of sweets collected by Amit, Priya, and Rahul\n",
        "amit_sweets = 79\n",
        "priya_sweets = 86\n",
        "rahul_sweets = 113\n",
        "\n",
        "# Your code goes here! Replace the right-hand side of this assignment with an expression\n",
        "to_dog = ----\n",
        "\n",
        "# Check your answer"
      ],
      "metadata": {
        "id": "oX8sGJcu09lT"
      },
      "execution_count": null,
      "outputs": []
    }
  ]
}