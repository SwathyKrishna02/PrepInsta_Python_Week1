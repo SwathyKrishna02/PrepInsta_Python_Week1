{
  "nbformat": 4,
  "nbformat_minor": 0,
  "metadata": {
    "colab": {
      "provenance": []
    },
    "kernelspec": {
      "name": "python3",
      "display_name": "Python 3"
    },
    "language_info": {
      "name": "python"
    }
  },
  "cells": [
    {
      "cell_type": "markdown",
      "source": [
        "# Creating A Guessing Game In Python"
      ],
      "metadata": {
        "id": "8ftNEwineqdm"
      }
    },
    {
      "cell_type": "markdown",
      "source": [
        "## Table of Contents\n",
        "1. Getting Started\n",
        "2. The Game Logic\n",
        "3. Creating Guessing Game with Python\n",
        "4. Guessing Game Program In Python\n",
        "5. How the Game Works\n",
        "6. Conclusion\n",
        "\n",
        "https://www.mathsisfun.com/games/guess_number.html\n",
        "\n"
      ],
      "metadata": {
        "id": "MF-Gt-RKeuBD"
      }
    },
    {
      "cell_type": "markdown",
      "source": [
        "## Getting Started\n",
        "\n",
        "> A guessing game is a classic and fun way to learn basics of python for programmers in begining. We will walk you through the process of creating a simple guessing game using Python. This game will randomly generate a number, and the user will have to guess the number within a certain range.\n",
        "\n",
        "\n",
        "> This is going to be a simple guessing game where the computer will generate a random number between 1 to 100, and the user has to guess it in 5 or 10 attempts.\n",
        "\n",
        "> Based on the user's guess computer will give various hints if the number is high or low. When the user guess matches the number computer will print the answer along with the number of attempts.\n",
        "\n",
        "\n",
        "> Let's get started!\n"
      ],
      "metadata": {
        "id": "0yi8Hq53fLfe"
      }
    },
    {
      "cell_type": "markdown",
      "source": [
        "## The Game Logic\n",
        "\n",
        "The Number Guessing Game revolves around a few key elements:\n",
        "\n",
        "**1. Generating a Random Number**: The game will randomly generate a number between 1 and 100, which you will have to guess.\n",
        "\n",
        "**2. User Interaction**: You will be asked to enter your name, making the game more personalized. Then, you can ask for level of difficulty like easy or hard where we will assign easy 10 guesses and hard level only 5 guesses.\n",
        "\n",
        "**3. Feedback Loop**: After each guess, the game will provide feedback on whether your guess is too low or too high. This will guide you in making your subsequent guesses.\n",
        "\n",
        "**4. Limited Attempts**: You will have a maximum of 5 attempts to guess the correct number for hard level and 10 for easy level based on level you choosen. Can you solve the mystery within these attempts?\n",
        "\n",
        "**5. Victory or Defeat**: If you successfully guess the number within the given attempts, you will be celebrated for your guessing prowess. If not, the game will reveal the correct number."
      ],
      "metadata": {
        "id": "Nm2sk7lef8qb"
      }
    },
    {
      "cell_type": "code",
      "execution_count": 23,
      "metadata": {
        "id": "Oyl_s2Eiel8d"
      },
      "outputs": [],
      "source": [
        "# Hello, What's your name?\n",
        "# Mohan\n",
        "\n",
        "# Hi, Mohan I am Guessing a number between 1 and 100:\n",
        "\n",
        "# Choose the difficulty Level, Type 'easy' or 'hard': easy\n",
        "# You have 10 attempts to guess the number.\n",
        "# Make a guess: 2\n",
        "\n",
        "# Your guess is too low\n",
        "# Guess again.\n",
        "# You have 9 attempts to guess the number.\n",
        "# Make a guess: 99\n",
        "\n",
        "# Your guess is too high\n",
        "# Guess again.\n",
        "# You have 8 attempts to guess the number.\n",
        "# Make a guess: 50\n",
        "\n",
        "# You got it!  The answer was 50.\n",
        "# You guessed the number in 3 tries!"
      ]
    },
    {
      "cell_type": "markdown",
      "source": [
        "# Creating Guessing Game with Python\n",
        "\n",
        "To generate a random number we will use a Python module named random to use this module in our program, we first need to import it."
      ],
      "metadata": {
        "id": "67Yc34UujeXf"
      }
    },
    {
      "cell_type": "code",
      "source": [
        "import random"
      ],
      "metadata": {
        "id": "Z9lF2DWPh_eC"
      },
      "execution_count": 1,
      "outputs": []
    },
    {
      "cell_type": "markdown",
      "source": [
        "We will use the random module to generate a number between 1 to 100 and store it in a variable named number."
      ],
      "metadata": {
        "id": "2VNQ4SMfj1U1"
      }
    },
    {
      "cell_type": "code",
      "source": [
        "number=random.randint(1,100)\n",
        "print(\"Random: \",number)"
      ],
      "metadata": {
        "id": "rqBpKLB3k5Gd",
        "colab": {
          "base_uri": "https://localhost:8080/"
        },
        "outputId": "d3eb81b3-93d7-4116-c78e-d0f713b514b9"
      },
      "execution_count": 2,
      "outputs": [
        {
          "output_type": "stream",
          "name": "stdout",
          "text": [
            "Random:  57\n"
          ]
        }
      ]
    },
    {
      "cell_type": "markdown",
      "source": [
        "Now we will prompt the user to enter his name and store it to a variable named playerName.\n",
        "\n",
        "\n"
      ],
      "metadata": {
        "id": "3d6O-7htk58U"
      }
    },
    {
      "cell_type": "code",
      "source": [
        "playerName=input(\"Enter name: \")\n",
        "print(\"Hello, What's your name? \\n \",playerName,\"\\n Hi,\",playerName,\"I am Guessing number between 1 and 100: \")"
      ],
      "metadata": {
        "id": "UpnYNbPYlSF9",
        "colab": {
          "base_uri": "https://localhost:8080/"
        },
        "outputId": "597cf06b-025f-4a72-94fe-9904dffbfb82"
      },
      "execution_count": 8,
      "outputs": [
        {
          "output_type": "stream",
          "name": "stdout",
          "text": [
            "Enter name: mohan\n",
            "Hello, What's your name? \n",
            "  mohan \n",
            " Hi, mohan I am Guessing number between 1 and 100: \n"
          ]
        }
      ]
    },
    {
      "cell_type": "markdown",
      "source": [
        "In the next step, we will create a variable named guesses and assign 5 or 10 based on easy or hard level that user choosen. Later we will increase this value on each iteration of the while loop.\n",
        "\n",
        "Finally, before constructing the while loop, we will print a string which includes the playerName."
      ],
      "metadata": {
        "id": "7uq9CYNelXXb"
      }
    },
    {
      "cell_type": "code",
      "source": [
        "guesses=0\n",
        "level=input(\"Choose the level (easy/hard): \").lower()\n",
        "\n",
        "if level == \"easy\":\n",
        "  guesses= 10\n",
        "  print(\"You have 10 attempts to guess the number.\")\n",
        "\n",
        "else:\n",
        "  guesses=5\n",
        "  print(\"You have 10 attempts to guess the number.\")\n",
        "\n",
        "print(\"Hello, \",playerName,\"! Let's play the guessing game.\")\n",
        "\n"
      ],
      "metadata": {
        "id": "zM9ZS7-el1E5",
        "colab": {
          "base_uri": "https://localhost:8080/"
        },
        "outputId": "d941a8f9-f881-4491-868b-21c4b091f648"
      },
      "execution_count": 18,
      "outputs": [
        {
          "output_type": "stream",
          "name": "stdout",
          "text": [
            "Choose the level (easy/hard): easy\n",
            "You have 10 attempts to guess the number.\n",
            "Hello,  mohan ! Let's play the guessing game.\n"
          ]
        }
      ]
    },
    {
      "cell_type": "markdown",
      "source": [
        "Now let's design the while loop."
      ],
      "metadata": {
        "id": "qb-iauN6l12Z"
      }
    },
    {
      "cell_type": "code",
      "source": [
        "triesLeft=guesses\n",
        "while guesses != 0:\n",
        "    print(f\"You have {guesses} attempts to guess the number\")\n",
        "    guess=int(input(f\"Make a guess:\"))\n",
        "\n",
        "    if guess < number:\n",
        "        print(\"Your guess is too low. Guess again.\")\n",
        "        guesses -= 1\n",
        "\n",
        "    elif guess > number:\n",
        "        print(\"Your guess is too high. Guess again.\")\n",
        "        guesses -= 1\n",
        "\n",
        "    else:\n",
        "        print(f\"You got it! The answer was {number}.\")\n",
        "        print(f\"You guessed the number in {triesLeft-guesses+1} tries!\")\n",
        "        break\n",
        "\n",
        "\n",
        "if guesses == 0:\n",
        "    print(f\"Sorry, you ran out of guesses. The correct number was {number}.\")"
      ],
      "metadata": {
        "id": "Isol5hdZmIe-",
        "colab": {
          "base_uri": "https://localhost:8080/"
        },
        "outputId": "54b82710-adac-4d3c-ab91-d7fad887df03"
      },
      "execution_count": 19,
      "outputs": [
        {
          "output_type": "stream",
          "name": "stdout",
          "text": [
            "You have 10 attempts to guess the number\n",
            "Make a guess:58\n",
            "Your guess is too high. Guess again.\n",
            "You have 9 attempts to guess the number\n",
            "Make a guess:54\n",
            "Your guess is too low. Guess again.\n",
            "You have 8 attempts to guess the number\n",
            "Make a guess:57\n",
            "You got it! The answer was 57.\n",
            "You guessed the number in 3 tries!\n"
          ]
        }
      ]
    },
    {
      "cell_type": "markdown",
      "source": [
        "In the first line, we are defining the controlling expression of the while loop. Our game will give user 5 or 10 attempts to guess the number, hence less than guesses because we have already assigned the number_of_guesses variable to 0.\n",
        "\n",
        "Within the loop, we are taking the input from the user and storing it in the guess variable. However, the user input we are getting from the user is a string object and to perform mathematical operations on it we first need to convert it to an integer which can be done by the Python's inbuilt int() method.\n",
        "\n",
        "In the next line, we are incrementing the value of number_of_guesses variable by 1.\n",
        "\n",
        "Below it, we have 3 conditional statements.\n",
        "\n",
        "In the first, if statement we are comparing if the guess is less than the generated number if this statement evaluates to true, we print the corresponding Guess.\n",
        "\n",
        "Similarly, we are checking if the guess is greater than the generated number.\n",
        "The final if statement has the break keyword, which will terminate the loop entirely,\n",
        "So when the guess is equal to the generated number loop gets terminated."
      ],
      "metadata": {
        "id": "U2T6j8y08Hzq"
      }
    },
    {
      "cell_type": "markdown",
      "source": [
        "Here we are first verifying if the user has guessed the number or not. if they did, then we will print a message for them along with the number of tries.\n",
        "\n",
        "\n",
        "If the player couldn't guess the number at the end we will print the number along with a message."
      ],
      "metadata": {
        "id": "mpWgHjN99OP1"
      }
    },
    {
      "cell_type": "markdown",
      "source": [
        "# Guessing Game Program In Python\n",
        "If you have been following us, then this is how your program should look like:"
      ],
      "metadata": {
        "id": "64hd3n0c9oG6"
      }
    },
    {
      "cell_type": "code",
      "source": [
        "#Join All Blocks to make our code works"
      ],
      "metadata": {
        "id": "Ddv8OBRg9O-o"
      },
      "execution_count": null,
      "outputs": []
    },
    {
      "cell_type": "code",
      "source": [
        "import random\n",
        "\n",
        "number=random.randint(1,100)\n",
        "#print(\"Random: \",number)\n",
        "\n",
        "playerName=input(\"Enter name: \")\n",
        "print(\"Hello, What's your name? \")\n",
        "print(playerName)\n",
        "print(\"\\n Hi,\",playerName,\"I am Guessing number between 1 and 100: \")\n",
        "\n",
        "guesses=0\n",
        "level=input(\"Choose the level (easy/hard): \").lower()\n",
        "\n",
        "if level == \"easy\":\n",
        "  guesses= 10\n",
        "  print(\"You have 10 attempts to guess the number.\")\n",
        "\n",
        "else:\n",
        "  guesses=5\n",
        "  print(\"You have 5 attempts to guess the number.\")\n",
        "\n",
        "print(\"Hello, \",playerName,\"! Let's play the guessing game.\")\n",
        "print(\"\\n\")\n",
        "\n",
        "triesLeft=guesses\n",
        "while guesses != 0:\n",
        "    print(f\"You have {guesses} attempts to guess the number\")\n",
        "    guess=int(input(f\"Make a guess:\"))\n",
        "\n",
        "    if guess < number:\n",
        "        print(\"Your guess is too low. Guess again.\")\n",
        "        guesses -= 1\n",
        "\n",
        "    elif guess > number:\n",
        "        print(\"Your guess is too high. Guess again.\")\n",
        "        guesses -= 1\n",
        "\n",
        "    else:\n",
        "        print(\"\\n\")\n",
        "        print(f\"You got it! The answer was {number}.\")\n",
        "        print(f\"You guessed the number in {triesLeft-guesses+1} tries!\")\n",
        "        break\n",
        "\n",
        "\n",
        "if guesses == 0:\n",
        "    print(f\"Sorry, you ran out of guesses. The correct number was {number}.\")"
      ],
      "metadata": {
        "colab": {
          "base_uri": "https://localhost:8080/"
        },
        "id": "f9VodI3AG-cW",
        "outputId": "327759b0-84f3-4d19-f5f8-9b4660156c7b"
      },
      "execution_count": 26,
      "outputs": [
        {
          "output_type": "stream",
          "name": "stdout",
          "text": [
            "Enter name: mohan\n",
            "Hello, What's your name? \n",
            "mohan\n",
            "\n",
            " Hi, mohan I am Guessing number between 1 and 100: \n",
            "Choose the level (easy/hard): easy\n",
            "You have 10 attempts to guess the number.\n",
            "Hello,  mohan ! Let's play the guessing game.\n",
            "\n",
            "\n",
            "You have 10 attempts to guess the number\n",
            "Make a guess:85\n",
            "Your guess is too high. Guess again.\n",
            "You have 9 attempts to guess the number\n",
            "Make a guess:45\n",
            "Your guess is too low. Guess again.\n",
            "You have 8 attempts to guess the number\n",
            "Make a guess:55\n",
            "Your guess is too low. Guess again.\n",
            "You have 7 attempts to guess the number\n",
            "Make a guess:65\n",
            "Your guess is too high. Guess again.\n",
            "You have 6 attempts to guess the number\n",
            "Make a guess:62\n",
            "You got it! The answer was 62.\n",
            "You guessed the number in 5 tries!\n"
          ]
        }
      ]
    },
    {
      "cell_type": "markdown",
      "source": [
        "Now let's run our game!\n",
        "\n",
        "Great Job"
      ],
      "metadata": {
        "id": "f8UsVx15_bS8"
      }
    }
  ]
}